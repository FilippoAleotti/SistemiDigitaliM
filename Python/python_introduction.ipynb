{
 "cells": [
  {
   "cell_type": "markdown",
   "metadata": {},
   "source": [
    "# Introduction to Python\n",
    "\n",
    "Python is a programming language originally developed by Guido van Rossum and now supported by a large community. \n",
    "It is object oriented and dynamically typed, particularly suited for scripting but it can be used also for developing applications (web, GUI, etc)\n",
    "Nowadays, it is largely adopted by researchers since it is easy to learn and use,  allowing to fast prototype applications and tests \n"
   ]
  },
  {
   "cell_type": "markdown",
   "metadata": {},
   "source": [
    "# Hello World\n",
    "\n",
    "Let’s write our first application, considering the case of the traditional “Hello, world!”."
   ]
  },
  {
   "cell_type": "code",
   "execution_count": 4,
   "metadata": {},
   "outputs": [
    {
     "name": "stdout",
     "output_type": "stream",
     "text": [
      "Hello, Sistemi digitali!\n",
      "25\n",
      "<type 'int'>\n"
     ]
    }
   ],
   "source": [
    "print('Hello, Sistemi digitali!')\n",
    "\n",
    "age = 25\n",
    "print(age)\n",
    "print(type(age))"
   ]
  },
  {
   "cell_type": "markdown",
   "metadata": {},
   "source": [
    "# Types\n",
    "\n",
    "Primitive types of the language are integer, float, strings and boolean "
   ]
  },
  {
   "cell_type": "code",
   "execution_count": 8,
   "metadata": {},
   "outputs": [
    {
     "name": "stdout",
     "output_type": "stream",
     "text": [
      "True\n"
     ]
    }
   ],
   "source": [
    "\"\"\"\n",
    "This is a\n",
    "multiple line comment\n",
    "\"\"\"\n",
    "# this is a single line comment\n",
    "\n",
    "# string\n",
    "# note that you can use both single or double quotes \n",
    "name = 'Filippo'\n",
    "surname = \"Aleotti\"\n",
    "\n",
    "# integer\n",
    "age = 25\n",
    "\n",
    "# float\n",
    "school_grades_mean = 28.5\n",
    "\n",
    "# boolean\n",
    "likes_python = True\n",
    "likes_java = False"
   ]
  },
  {
   "cell_type": "markdown",
   "metadata": {},
   "source": [
    "## Format\n",
    "\n",
    "Lot of times we need to format a string to improve the readability\n",
    "We can format our string using the format method of strings:\n"
   ]
  },
  {
   "cell_type": "code",
   "execution_count": 24,
   "metadata": {
    "scrolled": true
   },
   "outputs": [
    {
     "name": "stdout",
     "output_type": "stream",
     "text": [
      "Hi Filippo!\n"
     ]
    }
   ],
   "source": [
    "name = 'Filippo'\n",
    "print('Hi {}!'.format(name))"
   ]
  },
  {
   "cell_type": "markdown",
   "metadata": {},
   "source": [
    "We can even apply more complex operations, such as reducing the numbers of decimals\n"
   ]
  },
  {
   "cell_type": "code",
   "execution_count": 11,
   "metadata": {},
   "outputs": [
    {
     "name": "stdout",
     "output_type": "stream",
     "text": [
      "The value of pi is 3.1416\n",
      "Our neural network has 4578955 parameters, (4.58 M)\n"
     ]
    }
   ],
   "source": [
    "pi = 3.14159265359\n",
    "print('The value of pi is {:6.4f}'.format(pi))\n",
    "\n",
    "params = 4578955 \n",
    "print('Our neural network has {} parameters, ({:4.2f} M)'.format(params, params/1e6))"
   ]
  },
  {
   "cell_type": "markdown",
   "metadata": {},
   "source": [
    "## Casting\n",
    "\n",
    "Sometimes we need to change from a type to another. \n",
    "To do so, we can cast the type (of course paying attention, otherwise an exception will be raised) "
   ]
  },
  {
   "cell_type": "code",
   "execution_count": 26,
   "metadata": {
    "scrolled": true
   },
   "outputs": [
    {
     "name": "stdout",
     "output_type": "stream",
     "text": [
      "next age is: 26\n",
      "height is: 640\n"
     ]
    }
   ],
   "source": [
    "age = '25'\n",
    "next_age = str(int(age) +1)\n",
    "print('next age is: '+ str(next_age))\n",
    "\n",
    "height = 640.3\n",
    "height = int(height)\n",
    "print('height is: {}'.format(height))"
   ]
  },
  {
   "cell_type": "markdown",
   "metadata": {},
   "source": [
    "## Math\n",
    "\n",
    "Mathematical operations are performed as usual"
   ]
  },
  {
   "cell_type": "code",
   "execution_count": 27,
   "metadata": {},
   "outputs": [
    {
     "name": "stdout",
     "output_type": "stream",
     "text": [
      "sum:30.0 dot:200.0 pow:100.0 div:2.0 floor_div: 6 remainder:2\n"
     ]
    }
   ],
   "source": [
    "x = 10. # float\n",
    "y = 20  # int\n",
    "\n",
    "sum = x + y         \n",
    "dot = x * y         \n",
    "pow = x ** 2        \n",
    "div = y / x     \n",
    "floor_div = y // 3 \n",
    "remainder = y % 3   \n",
    "print('sum:{} dot:{} pow:{} div:{} floor_div: {} remainder:{}'.format(*[sum, dot, pow, div, floor_div, remainder]))"
   ]
  },
  {
   "cell_type": "markdown",
   "metadata": {},
   "source": [
    "## Strings\n",
    "\n",
    "Strings are sequences of characters"
   ]
  },
  {
   "cell_type": "code",
   "execution_count": 13,
   "metadata": {
    "scrolled": false
   },
   "outputs": [
    {
     "name": "stdout",
     "output_type": "stream",
     "text": [
      "first:F last:o\n",
      "lenght: 7\n",
      "Full name: Filippo Aleotti\n",
      "Edited name: filippo\n",
      "filippo\n"
     ]
    }
   ],
   "source": [
    "name = 'Filippo'\n",
    "first_char = name[0] # F\n",
    "last_char = name[-1] # o\n",
    "print('first:{} last:{}'.format(first_char, last_char))\n",
    "length = len(name)\n",
    "print('lenght: '+ str(length))\n",
    "full_name = name + ' Aleotti'\n",
    "print('Full name: ' + full_name)\n",
    "name = name.replace('F','f')\n",
    "print('Edited name: ' + name)"
   ]
  },
  {
   "cell_type": "markdown",
   "metadata": {},
   "source": [
    "### Errors in strings\n",
    "\n",
    "Some operations on strings are not allowed.\n",
    "For instance, they are **immutable** so we can't directly change a string using its index"
   ]
  },
  {
   "cell_type": "code",
   "execution_count": 29,
   "metadata": {},
   "outputs": [
    {
     "ename": "TypeError",
     "evalue": "'str' object does not support item assignment",
     "output_type": "error",
     "traceback": [
      "\u001b[0;31m---------------------------------------------------------------------------\u001b[0m",
      "\u001b[0;31mTypeError\u001b[0m                                 Traceback (most recent call last)",
      "\u001b[0;32m<ipython-input-29-fb070b550a65>\u001b[0m in \u001b[0;36m<module>\u001b[0;34m\u001b[0m\n\u001b[0;32m----> 1\u001b[0;31m \u001b[0mname\u001b[0m\u001b[0;34m[\u001b[0m\u001b[0;36m0\u001b[0m\u001b[0;34m]\u001b[0m \u001b[0;34m=\u001b[0m \u001b[0;34m'F'\u001b[0m   \u001b[0;31m# TypeError: 'str' object does not support item assignment\u001b[0m\u001b[0;34m\u001b[0m\u001b[0;34m\u001b[0m\u001b[0m\n\u001b[0m\u001b[1;32m      2\u001b[0m \u001b[0mname\u001b[0m \u001b[0;34m=\u001b[0m \u001b[0mname\u001b[0m \u001b[0;34m+\u001b[0m \u001b[0;36m2\u001b[0m \u001b[0;31m# TypeError: cannot concatenate 'str' and 'int' objects\u001b[0m\u001b[0;34m\u001b[0m\u001b[0;34m\u001b[0m\u001b[0m\n",
      "\u001b[0;31mTypeError\u001b[0m: 'str' object does not support item assignment"
     ]
    }
   ],
   "source": [
    "name[0] = 'F'   # TypeError: 'str' object does not support item assignment\n",
    "name = name + 2 # TypeError: cannot concatenate 'str' and 'int' objects"
   ]
  },
  {
   "cell_type": "markdown",
   "metadata": {},
   "source": [
    "# Collections\n",
    "\n",
    "Python offers more complex data structures to handle data. Some of the most important are tuples, lists and dictionaries\n",
    "\n",
    "\n",
    "## Tuple\n",
    "\n",
    "Tuples are **immutable** list of values comma-separated\n",
    "\n",
    "They can be accessed by index\n"
   ]
  },
  {
   "cell_type": "code",
   "execution_count": 15,
   "metadata": {},
   "outputs": [
    {
     "name": "stdout",
     "output_type": "stream",
     "text": [
      "First: python\n",
      "Last: ruby\n",
      "<type 'tuple'>\n",
      "3 e 4: ('c++', 'c#')\n"
     ]
    }
   ],
   "source": [
    "languages = 'python', 'java', 'c++', 'c#', 'ruby'  \n",
    "languages = ('python', 'java', 'c++', 'c#', 'ruby')\n",
    "\n",
    "first = languages[0]  \n",
    "print('First: {}'.format(first))\n",
    "last  = languages[-1] \n",
    "print('Last: {}'.format(last))\n",
    "third_and_fourth = languages[2:4]\n",
    "print(type(third_and_fourth))\n",
    "print('3 e 4: {}'.format(third_and_fourth))"
   ]
  },
  {
   "cell_type": "markdown",
   "metadata": {},
   "source": [
    "but the values cannot be changed (otherwise TypeError will be raised)"
   ]
  },
  {
   "cell_type": "code",
   "execution_count": 16,
   "metadata": {},
   "outputs": [
    {
     "ename": "TypeError",
     "evalue": "'tuple' object does not support item assignment",
     "output_type": "error",
     "traceback": [
      "\u001b[0;31m---------------------------------------------------------------------------\u001b[0m",
      "\u001b[0;31mTypeError\u001b[0m                                 Traceback (most recent call last)",
      "\u001b[0;32m<ipython-input-16-78ce45742a3a>\u001b[0m in \u001b[0;36m<module>\u001b[0;34m()\u001b[0m\n\u001b[0;32m----> 1\u001b[0;31m \u001b[0mlanguages\u001b[0m\u001b[0;34m[\u001b[0m\u001b[0;36m1\u001b[0m\u001b[0;34m]\u001b[0m \u001b[0;34m=\u001b[0m \u001b[0;34m'javascript'\u001b[0m \u001b[0;31m# TypeError: 'tuple' object does not support item assignment\u001b[0m\u001b[0;34m\u001b[0m\u001b[0m\n\u001b[0m",
      "\u001b[0;31mTypeError\u001b[0m: 'tuple' object does not support item assignment"
     ]
    }
   ],
   "source": [
    "languages[1] = 'javascript' # TypeError: 'tuple' object does not support item assignment"
   ]
  },
  {
   "cell_type": "markdown",
   "metadata": {},
   "source": [
    "## List\n",
    "\n",
    "If you plan to change your data, a better option consist in using lists instead of tuples.\n",
    "As for tuples, we can get elements by index"
   ]
  },
  {
   "cell_type": "code",
   "execution_count": 19,
   "metadata": {},
   "outputs": [
    {
     "name": "stdout",
     "output_type": "stream",
     "text": [
      "First: python\n",
      "3 e 4: ['c++', 'c#']\n"
     ]
    }
   ],
   "source": [
    "languages = ['python', 'java', 'c++', 'c#', 'ruby']\n",
    "void = list() \n",
    "void = []    \n",
    "mixed_list = ['1', 1, True, None]\n",
    "\n",
    "first = languages[0]  \n",
    "print('First: {}'.format(first))\n",
    "last  = languages[-1]\n",
    "last  = languages[-1] \n",
    "third_and_fourth = languages[2:4] \n",
    "print('3 e 4: {}'.format(third_and_fourth))"
   ]
  },
  {
   "cell_type": "markdown",
   "metadata": {},
   "source": [
    "But, differently from tuples, lists are editable"
   ]
  },
  {
   "cell_type": "code",
   "execution_count": 22,
   "metadata": {},
   "outputs": [
    {
     "name": "stdout",
     "output_type": "stream",
     "text": [
      "['python', 'javascript', 'c++', 'go', 'c#', 'ruby', 'c']\n"
     ]
    }
   ],
   "source": [
    "languages.insert(3,'go')\n",
    "print(languages)\n"
   ]
  },
  {
   "cell_type": "markdown",
   "metadata": {},
   "source": [
    "# Dictionary\n",
    "\n",
    "Dictionaries allow to store key-value couples"
   ]
  },
  {
   "cell_type": "code",
   "execution_count": null,
   "metadata": {},
   "outputs": [],
   "source": [
    "person = {} \n",
    "person = dict()\n",
    "\n",
    "# adding elements to the dict\n",
    "person['name'] = 'Filippo'\n",
    "person['surname'] = ' Aleotti'\n",
    "print('Person: {}'.format(person))\n",
    "\n",
    "# in-line dict creation\n",
    "person = {\n",
    "    'name': 'Filippo',\n",
    "    'surname': 'Aleotti',\n",
    "    'age': 25\n",
    "}\n",
    "print('Person: {}'.format(person))\n",
    "\n",
    "name = person['name'] # 'Filippo'\n",
    "print('Name: {}'.format(name))"
   ]
  },
  {
   "cell_type": "markdown",
   "metadata": {},
   "source": [
    "# Statements\n",
    "\n",
    "As for other programming languages, Python exposes if statement for conditions and for and while to iterate"
   ]
  },
  {
   "cell_type": "markdown",
   "metadata": {},
   "source": [
    "## If\n",
    "\n",
    "Using the if, we can execute a set of instructions a given a certain condition"
   ]
  },
  {
   "cell_type": "code",
   "execution_count": 26,
   "metadata": {},
   "outputs": [
    {
     "name": "stdout",
     "output_type": "stream",
     "text": [
      "B\n"
     ]
    }
   ],
   "source": [
    "x = 1\n",
    "y = 3\n",
    "\n",
    "if x > y:\n",
    "    print('x is greater than y')\n",
    "    print('A')\n",
    "print('B')"
   ]
  },
  {
   "cell_type": "markdown",
   "metadata": {},
   "source": [
    "*NOTE:* you can notice that the instruction to execute are indented with respect to the condition. \n",
    "\n",
    "**In Python indentation is mandatory**a and if not respected the compiler will throw an exception.\n",
    "\n",
    "You are free to indent with tabs or spaces, but you can not use both in the same script\n",
    "Indenting a block is the equivalent of wrapping a set of instructions with { } in Java  \n"
   ]
  },
  {
   "cell_type": "markdown",
   "metadata": {},
   "source": [
    "## For loop\n",
    "\n",
    "For loops are useful to do some operation N times"
   ]
  },
  {
   "cell_type": "code",
   "execution_count": 29,
   "metadata": {},
   "outputs": [
    {
     "name": "stdout",
     "output_type": "stream",
     "text": [
      "0\n",
      "1\n",
      "2\n",
      "3\n",
      "4\n",
      "5\n",
      "6\n",
      "7\n",
      "8\n",
      "9\n",
      "10\n",
      "11\n",
      "12\n",
      "13\n",
      "14\n",
      "15\n",
      "16\n",
      "17\n",
      "18\n",
      "19\n",
      "20\n",
      "21\n",
      "22\n",
      "23\n",
      "24\n",
      "25\n",
      "26\n",
      "27\n",
      "28\n",
      "29\n",
      "30\n",
      "31\n",
      "32\n",
      "33\n",
      "34\n",
      "35\n",
      "36\n",
      "37\n",
      "38\n",
      "39\n",
      "40\n",
      "41\n",
      "42\n",
      "43\n",
      "44\n",
      "45\n",
      "46\n",
      "47\n",
      "48\n",
      "49\n"
     ]
    }
   ],
   "source": [
    "counter = 0\n",
    "i = 10\n",
    "for i in range(50):\n",
    "    counter += 1\n",
    "    print(i)\n",
    "#print(counter)"
   ]
  },
  {
   "cell_type": "code",
   "execution_count": 30,
   "metadata": {},
   "outputs": [
    {
     "name": "stdout",
     "output_type": "stream",
     "text": [
      "15\n"
     ]
    }
   ],
   "source": [
    "counter = 0\n",
    "for i in range(10,40,2):\n",
    "    counter += 1\n",
    "print(counter)"
   ]
  },
  {
   "cell_type": "markdown",
   "metadata": {},
   "source": [
    "We can iterate also over collections"
   ]
  },
  {
   "cell_type": "code",
   "execution_count": 36,
   "metadata": {},
   "outputs": [
    {
     "name": "stdout",
     "output_type": "stream",
     "text": [
      "A\n",
      "strawberry\n",
      "mango\n",
      "found it!\n",
      "grapefruit\n"
     ]
    }
   ],
   "source": [
    "fruits = ['A', 'strawberry', 'mango', 'grapefruit']\n",
    "searched_fruit = 'mango'\n",
    "for fruit in fruits:\n",
    "    print(fruit)\n",
    "    if searched_fruit == fruit:\n",
    "        print('found it!')\n"
   ]
  },
  {
   "cell_type": "code",
   "execution_count": 37,
   "metadata": {},
   "outputs": [
    {
     "name": "stdout",
     "output_type": "stream",
     "text": [
      "india has 1387058000 inhabitants\n",
      "china has 1401199000 inhabitants\n",
      "usa has 329472000 inhabitants\n"
     ]
    }
   ],
   "source": [
    "countries_people = {\n",
    "    'china': 1401199000,\n",
    "    'india':1387058000,\n",
    "    'usa': 329472000\n",
    "}\n",
    "for country, people in countries_people.items():\n",
    "    print('{} has {} inhabitants'.format(country, people))"
   ]
  },
  {
   "cell_type": "markdown",
   "metadata": {},
   "source": [
    "## While loop\n",
    "\n",
    "While loop is used to continue iterating until a given condition is no more verified"
   ]
  },
  {
   "cell_type": "code",
   "execution_count": 38,
   "metadata": {},
   "outputs": [
    {
     "name": "stdout",
     "output_type": "stream",
     "text": [
      "apple is at index 3\n"
     ]
    }
   ],
   "source": [
    "found = False\n",
    "searched_fruit = 'apple'\n",
    "index = 0\n",
    "fruits = ['mango', 'peach', 'pineapple', 'apple', 'strawberry']\n",
    "\n",
    "while not found and index < len(fruits):\n",
    "    if fruits[index] == searched_fruit:\n",
    "        found = True\n",
    "    else:\n",
    "        index += 1\n",
    "\n",
    "result = '{} is at index {}'.format(searched_fruit, index) if found else '{} not found'.format(searched_fruit)\n",
    "print(result)"
   ]
  },
  {
   "cell_type": "markdown",
   "metadata": {},
   "source": [
    "# Scopes\n",
    "\n",
    "The scope of a variable defines its visibility: it depends by where the variable has been defined and influence how we can use that variable.\n",
    "\n",
    "In Python we are not forced to declare always a variable (even it may be a good practice, to improve the readability of the code)"
   ]
  },
  {
   "cell_type": "code",
   "execution_count": 1,
   "metadata": {},
   "outputs": [
    {
     "ename": "NameError",
     "evalue": "name 'b' is not defined",
     "output_type": "error",
     "traceback": [
      "\u001b[0;31m---------------------------------------------------------------------------\u001b[0m",
      "\u001b[0;31mNameError\u001b[0m                                 Traceback (most recent call last)",
      "\u001b[0;32m<ipython-input-1-497d879da9a1>\u001b[0m in \u001b[0;36m<module>\u001b[0;34m()\u001b[0m\n\u001b[1;32m      3\u001b[0m     \u001b[0mb\u001b[0m \u001b[0;34m=\u001b[0m \u001b[0mTrue\u001b[0m\u001b[0;34m\u001b[0m\u001b[0m\n\u001b[1;32m      4\u001b[0m \u001b[0;34m\u001b[0m\u001b[0m\n\u001b[0;32m----> 5\u001b[0;31m \u001b[0mresult\u001b[0m \u001b[0;34m=\u001b[0m \u001b[0mb\u001b[0m\u001b[0;34m\u001b[0m\u001b[0m\n\u001b[0m\u001b[1;32m      6\u001b[0m \u001b[0;32mprint\u001b[0m\u001b[0;34m(\u001b[0m\u001b[0;34m'OK'\u001b[0m\u001b[0;34m)\u001b[0m\u001b[0;34m\u001b[0m\u001b[0m\n",
      "\u001b[0;31mNameError\u001b[0m: name 'b' is not defined"
     ]
    }
   ],
   "source": [
    "x = 1\n",
    "if x > 3:\n",
    "    b = True\n",
    "\n",
    "result = b\n",
    "print('OK')"
   ]
  },
  {
   "cell_type": "markdown",
   "metadata": {},
   "source": [
    "In this case `b=True` since the condition `x>3` is verified, but with `x=1` the program would raise *NameError: name 'b' is not defined*"
   ]
  },
  {
   "cell_type": "code",
   "execution_count": null,
   "metadata": {},
   "outputs": [],
   "source": [
    "x = 1\n",
    "if x > 3:\n",
    "    b = True\n",
    "\n",
    "result = b"
   ]
  },
  {
   "cell_type": "markdown",
   "metadata": {},
   "source": [
    "## Local scope\n",
    "\n",
    "All the variables declared inside a function are local, so they are not visible outside that function"
   ]
  },
  {
   "cell_type": "code",
   "execution_count": 4,
   "metadata": {},
   "outputs": [
    {
     "name": "stdout",
     "output_type": "stream",
     "text": [
      "Filippo\n"
     ]
    },
    {
     "ename": "NameError",
     "evalue": "name 'n' is not defined",
     "output_type": "error",
     "traceback": [
      "\u001b[0;31m---------------------------------------------------------------------------\u001b[0m",
      "\u001b[0;31mNameError\u001b[0m                                 Traceback (most recent call last)",
      "\u001b[0;32m<ipython-input-4-7990c123f48e>\u001b[0m in \u001b[0;36m<module>\u001b[0;34m()\u001b[0m\n\u001b[1;32m      4\u001b[0m \u001b[0;34m\u001b[0m\u001b[0m\n\u001b[1;32m      5\u001b[0m \u001b[0mprint_name\u001b[0m\u001b[0;34m(\u001b[0m\u001b[0;34m)\u001b[0m\u001b[0;34m\u001b[0m\u001b[0m\n\u001b[0;32m----> 6\u001b[0;31m \u001b[0;32mprint\u001b[0m\u001b[0;34m(\u001b[0m\u001b[0mn\u001b[0m\u001b[0;34m)\u001b[0m\u001b[0;34m\u001b[0m\u001b[0m\n\u001b[0m",
      "\u001b[0;31mNameError\u001b[0m: name 'n' is not defined"
     ]
    }
   ],
   "source": [
    "def print_name():\n",
    "    n = 'Filippo'\n",
    "    print(n)\n",
    "\n",
    "print_name()\n",
    "print(n)"
   ]
  },
  {
   "cell_type": "markdown",
   "metadata": {},
   "source": [
    "Variables defined in global scope are visible inside local ones "
   ]
  },
  {
   "cell_type": "code",
   "execution_count": 5,
   "metadata": {},
   "outputs": [
    {
     "name": "stdout",
     "output_type": "stream",
     "text": [
      "Filippo Aleotti\n"
     ]
    }
   ],
   "source": [
    "surname = 'Aleotti'\n",
    "\n",
    "def print_full_name():\n",
    "    name = 'Filippo'\n",
    "    print(name+ ' '+ surname)\n",
    "\n",
    "print_full_name()"
   ]
  },
  {
   "cell_type": "markdown",
   "metadata": {},
   "source": [
    "## Global scope\n",
    "\n",
    "Global variables **are visible but not editable** inside a function"
   ]
  },
  {
   "cell_type": "code",
   "execution_count": 6,
   "metadata": {},
   "outputs": [
    {
     "ename": "UnboundLocalError",
     "evalue": "local variable 'x' referenced before assignment",
     "output_type": "error",
     "traceback": [
      "\u001b[0;31m---------------------------------------------------------------------------\u001b[0m",
      "\u001b[0;31mUnboundLocalError\u001b[0m                         Traceback (most recent call last)",
      "\u001b[0;32m<ipython-input-6-9b92f875a647>\u001b[0m in \u001b[0;36m<module>\u001b[0;34m()\u001b[0m\n\u001b[1;32m      5\u001b[0m     \u001b[0;32mreturn\u001b[0m \u001b[0mx\u001b[0m\u001b[0;34m\u001b[0m\u001b[0m\n\u001b[1;32m      6\u001b[0m \u001b[0;34m\u001b[0m\u001b[0m\n\u001b[0;32m----> 7\u001b[0;31m \u001b[0my\u001b[0m \u001b[0;34m=\u001b[0m \u001b[0mincrement\u001b[0m\u001b[0;34m(\u001b[0m\u001b[0;34m)\u001b[0m\u001b[0;34m\u001b[0m\u001b[0m\n\u001b[0m\u001b[1;32m      8\u001b[0m \u001b[0;32mprint\u001b[0m\u001b[0;34m(\u001b[0m\u001b[0my\u001b[0m\u001b[0;34m)\u001b[0m\u001b[0;34m\u001b[0m\u001b[0m\n",
      "\u001b[0;32m<ipython-input-6-9b92f875a647>\u001b[0m in \u001b[0;36mincrement\u001b[0;34m()\u001b[0m\n\u001b[1;32m      2\u001b[0m \u001b[0;34m\u001b[0m\u001b[0m\n\u001b[1;32m      3\u001b[0m \u001b[0;32mdef\u001b[0m \u001b[0mincrement\u001b[0m\u001b[0;34m(\u001b[0m\u001b[0;34m)\u001b[0m\u001b[0;34m:\u001b[0m\u001b[0;34m\u001b[0m\u001b[0m\n\u001b[0;32m----> 4\u001b[0;31m     \u001b[0mx\u001b[0m \u001b[0;34m=\u001b[0m \u001b[0mx\u001b[0m \u001b[0;34m+\u001b[0m \u001b[0;36m1\u001b[0m\u001b[0;34m\u001b[0m\u001b[0m\n\u001b[0m\u001b[1;32m      5\u001b[0m     \u001b[0;32mreturn\u001b[0m \u001b[0mx\u001b[0m\u001b[0;34m\u001b[0m\u001b[0m\n\u001b[1;32m      6\u001b[0m \u001b[0;34m\u001b[0m\u001b[0m\n",
      "\u001b[0;31mUnboundLocalError\u001b[0m: local variable 'x' referenced before assignment"
     ]
    }
   ],
   "source": [
    "x = 5\n",
    "\n",
    "def increment():\n",
    "    x = x + 1\n",
    "    return x\n",
    "\n",
    "y = increment()\n",
    "print(y)"
   ]
  },
  {
   "cell_type": "markdown",
   "metadata": {},
   "source": [
    "To edit the **global** variable x, we have to use the `global` keyword"
   ]
  },
  {
   "cell_type": "code",
   "execution_count": 7,
   "metadata": {},
   "outputs": [
    {
     "name": "stdout",
     "output_type": "stream",
     "text": [
      "6\n"
     ]
    }
   ],
   "source": [
    "x = 5\n",
    "\n",
    "def increment():\n",
    "    global x\n",
    "    x = x + 1\n",
    "    return x\n",
    "\n",
    "y = increment() # y is 6\n",
    "print(y)"
   ]
  },
  {
   "cell_type": "markdown",
   "metadata": {},
   "source": [
    "# Function\n",
    "\n",
    "In order to improve the readability but also the reusability of your code, it is a good practice to encapsulate a set of instruction inside a function. This function may be called both from the same and even also from other scripts.\n",
    "\n",
    "Functions are defined using the `def` keyword"
   ]
  },
  {
   "cell_type": "code",
   "execution_count": null,
   "metadata": {},
   "outputs": [],
   "source": [
    "def dot(x,y):\n",
    "    return x*y\n",
    "d = dot(5,2)\n",
    "print(d)"
   ]
  },
  {
   "cell_type": "markdown",
   "metadata": {},
   "source": [
    "In this case, x and y are arguments of the dot function.\n",
    "\n",
    "In Python, we can assign **default values** for arguments of the function"
   ]
  },
  {
   "cell_type": "code",
   "execution_count": null,
   "metadata": {
    "scrolled": true
   },
   "outputs": [],
   "source": [
    "def pow(x, y=2):\n",
    "    return x**y\n",
    "\n",
    "x1 = pow(5)   # x1=25 , y assumes the default value 2\n",
    "x2 = pow(5,3) # x2=125, y is 3\n",
    "print('x1:{} x2:{}'.format(x1, x2))"
   ]
  },
  {
   "cell_type": "markdown",
   "metadata": {},
   "source": [
    "We can also change a **specific set** of values"
   ]
  },
  {
   "cell_type": "code",
   "execution_count": 43,
   "metadata": {},
   "outputs": [
    {
     "name": "stdout",
     "output_type": "stream",
     "text": [
      "3\n",
      "3\n"
     ]
    }
   ],
   "source": [
    "def my_transformation(x, alpha=1, beta=5):\n",
    "    return x**alpha - beta\n",
    "\n",
    "x1 = my_transformation(5, beta=2)\n",
    "x2 = my_transformation(5, beta=2)\n",
    "\n",
    "print(x1)"
   ]
  },
  {
   "cell_type": "markdown",
   "metadata": {},
   "source": [
    "#### NOTE: pay attention with types! In the following example, we sum function apply the + between the inputs, but for list the + means concatenation!"
   ]
  },
  {
   "cell_type": "code",
   "execution_count": 11,
   "metadata": {},
   "outputs": [
    {
     "name": "stdout",
     "output_type": "stream",
     "text": [
      "['1', '2', 3, 4]\n"
     ]
    }
   ],
   "source": [
    "def sum(x,y):\n",
    "    return x+y\n",
    "\n",
    "print(sum(['1','2'],[3,4]))"
   ]
  },
  {
   "cell_type": "markdown",
   "metadata": {},
   "source": [
    "# Object\n",
    "\n",
    "In OOP, objects wrap data and methods to handle with a specific element of the domain. \n",
    "For instance, in our exam-assistant application we can model a student as an object to keep trace of all the properties of a particular student (e.g., his ID) and specify methods valid for all the students \n",
    "\n",
    "In particular, Student will be a class in our application, while the specific student Filippo Aleotti (with name=“Filippo Aleotti” and ID=“0123456”) is an object (i.e., an instance of class Student)\n"
   ]
  },
  {
   "cell_type": "code",
   "execution_count": 8,
   "metadata": {},
   "outputs": [
    {
     "name": "stdout",
     "output_type": "stream",
     "text": [
      "Hello, my name is Filippo Aleotti and my ID is 0123456\n"
     ]
    }
   ],
   "source": [
    "class Student(object):\n",
    "\n",
    "    def __init__(self, name, id ):\n",
    "        self.name = name\n",
    "        self.id = id\n",
    "    \n",
    "    def introduce_yourself(self):\n",
    "        print('Hello, my name is {} and my ID is {}'.format(self.name, self.id))\n",
    "    \n",
    "\n",
    "student = Student('Filippo Aleotti', '0123456')\n",
    "student.introduce_yourself()"
   ]
  },
  {
   "cell_type": "code",
   "execution_count": 10,
   "metadata": {},
   "outputs": [
    {
     "name": "stdout",
     "output_type": "stream",
     "text": [
      "Hello, my name is Filippo Aleotti and my ID is 0123456\n",
      "I am a Computer Science student!\n"
     ]
    }
   ],
   "source": [
    "class ComputerScienceStudent(Student):\n",
    "    def __init__(self, name, id):\n",
    "        super(ComputerScienceStudent, self).__init__(name, id)\n",
    "        self.course = 'Computer Science'\n",
    "    \n",
    "    def introduce_yourself(self):\n",
    "        super(ComputerScienceStudent, self).introduce_yourself()\n",
    "        print('I am a '+ self.course + ' student!')\n",
    "\n",
    "csstudent = ComputerScienceStudent('Filippo Aleotti', '0123456' ) \n",
    "csstudent.introduce_yourself()"
   ]
  },
  {
   "cell_type": "code",
   "execution_count": 11,
   "metadata": {},
   "outputs": [
    {
     "name": "stdout",
     "output_type": "stream",
     "text": [
      "{'1': 5, '0': 4, '2': 4}\n"
     ]
    }
   ],
   "source": [
    "remaining_values = [0,1,0,2,2,1,2,1,0,0,2,1,1]\n",
    "result = {}\n",
    "while remaining_values != []:\n",
    "    occurrencies  = [x for x in remaining_values if x == remaining_values[0]]\n",
    "    result[str(remaining_values[0])] = len(occurrencies)\n",
    "    remaining_values = [x for x in remaining_values if x != remaining_values[0]]\n",
    "print(result)"
   ]
  },
  {
   "cell_type": "code",
   "execution_count": 12,
   "metadata": {},
   "outputs": [
    {
     "name": "stdout",
     "output_type": "stream",
     "text": [
      "{'1': 5, '0': 4, '2': 4}\n"
     ]
    }
   ],
   "source": [
    "remaining_values = [0,1,0,2,2,1,2,1,0,0,2,1,1]\n",
    "result = {}\n",
    "while remaining_values != []:\n",
    "    occurrencies = 0\n",
    "    not_found = []\n",
    "    for x in remaining_values:\n",
    "        if x == remaining_values[0]:\n",
    "            occurrencies  += 1\n",
    "        else:\n",
    "            not_found.append(x)\n",
    "            \n",
    "    result[str(remaining_values[0])] = occurrencies\n",
    "    remaining_values = not_found\n",
    "print(result)"
   ]
  },
  {
   "cell_type": "code",
   "execution_count": null,
   "metadata": {},
   "outputs": [],
   "source": []
  }
 ],
 "metadata": {
  "file_extension": ".py",
  "kernelspec": {
   "display_name": "Python 2",
   "language": "python",
   "name": "python2"
  },
  "language_info": {
   "codemirror_mode": {
    "name": "ipython",
    "version": 2
   },
   "file_extension": ".py",
   "mimetype": "text/x-python",
   "name": "python",
   "nbconvert_exporter": "python",
   "pygments_lexer": "ipython2",
   "version": "2.7.16"
  },
  "mimetype": "text/x-python",
  "name": "python",
  "npconvert_exporter": "python",
  "pygments_lexer": "ipython3",
  "version": 3
 },
 "nbformat": 4,
 "nbformat_minor": 2
}
